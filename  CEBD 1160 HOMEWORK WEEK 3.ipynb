{
 "cells": [
  {
   "cell_type": "code",
   "execution_count": 2,
   "metadata": {},
   "outputs": [
    {
     "name": "stdout",
     "output_type": "stream",
     "text": [
      "[40, 100, 44, 74, 78, 12]\n"
     ]
    }
   ],
   "source": [
    "#1 Write a program (function!) that takes a list and returns a new list that contains all the elements of the first list minus all the duplicates\n",
    "\n",
    "def new_list(L):\n",
    "    w = []\n",
    "    for i in L:\n",
    "        if i not in w:\n",
    "            w.append(i)\n",
    "    return w\n",
    "\n",
    "print(new_list([40,100,44,44,74,74,100,78,12,100])) "
   ]
  },
  {
   "cell_type": "code",
   "execution_count": 3,
   "metadata": {},
   "outputs": [],
   "source": [
    "#2 Write a function that takes an ordered list of numbers (a list where the elements are inorder from smallest to largest) and another number. The function decides whether or notthe given number is inside the list and returns (then prints) an appropriate boolean.\n",
    "\n",
    "def find(ordered_list_of_number, number):\n",
    "    for i in ordered_list_of_number:\n",
    "        if i == number:\n",
    "            return True\n",
    "    else:\n",
    "        return False"
   ]
  },
  {
   "cell_type": "code",
   "execution_count": 4,
   "metadata": {},
   "outputs": [
    {
     "name": "stdout",
     "output_type": "stream",
     "text": [
      "[4, 16, 36, 64, 100]\n"
     ]
    }
   ],
   "source": [
    "#3 Let’s say I give you a list saved in a variable: a = [1, 4, 9, 16, 25, 36, 49, 64, 81, 100].Write one line of Python that takes this list a and makes a new list that has only the evenelements of this list in it\n",
    "\n",
    "a = [1, 4, 9, 16, 25, 36, 49, 64, 81, 100]\n",
    "z = [i for i in a if i%2==0]\n",
    "print(z)"
   ]
  },
  {
   "cell_type": "code",
   "execution_count": null,
   "metadata": {},
   "outputs": [],
   "source": [
    "#advance 1\n",
    "import random \n",
    "hidden_number = random.randrange(1,201)\n",
    "\n",
    "guess = int(input(\"picks a number: \"))\n",
    "\n",
    "while hidden_number != guess :\n",
    "\n",
    "    if guess >+ hidden_number:\n",
    "        print(\"way upper\")\n",
    "    elif guess > hidden_number:\n",
    "        print(\"upper\")\n",
    "    elif guess < hidden_number:\n",
    "        print(\"lower\")\n",
    "    elif guess <- hidden_number:\n",
    "        print(\"way lower\")\n",
    "    else:\n",
    "        guess == hidden_number\n",
    "        print(\"close or bingo\")\n"
   ]
  },
  {
   "cell_type": "code",
   "execution_count": null,
   "metadata": {},
   "outputs": [],
   "source": [
    "#advance 2\n",
    "while hidden_number == guess :\n",
    "\n",
    "    if guess >+ hidden_number:\n",
    "        print(\"way upper\")\n",
    "    elif guess > hidden_number:\n",
    "        print(\"upper\")\n",
    "    elif guess < hidden_number:\n",
    "        print(\"lower\")\n",
    "    elif guess <- hidden_number:\n",
    "        print(\"way lower\")\n",
    "    else:\n",
    "        guess == hidden_number\n",
    "        print(\"close or bingo\")"
   ]
  },
  {
   "cell_type": "code",
   "execution_count": null,
   "metadata": {},
   "outputs": [],
   "source": [
    "#advance 3\n",
    "        attemps = 0\n",
    "while hidden_number != guess  and attemps < 4:\n",
    "    if guess > hidden_number:\n",
    "        print(\"upper\")\n",
    "\n",
    "    elif guess < hidden_number:\n",
    "        print(\"lower\")\n",
    "    else:\n",
    "        if hidden_number%3 == 0:\n",
    "            hidden_number%3 == hidden_number\n",
    "            print(\" bingo\")\n",
    "            attemps = attemps +1"
   ]
  },
  {
   "cell_type": "code",
   "execution_count": null,
   "metadata": {},
   "outputs": [],
   "source": [
    "#advance 4\n",
    "attemps = 0\n",
    "while hidden_number == guess  and attemps < 4:\n",
    "    if guess > hidden_number:\n",
    "        print(\"upper\")\n",
    "\n",
    "    elif guess < hidden_number:\n",
    "        print(\"lower\")\n",
    "    else:\n",
    "        if hidden_number%3 == 0:\n",
    "            hidden_number%3 == hidden_number\n",
    "            print(\" bingo\")\n",
    "            attemps = attemps +1    "
   ]
  },
  {
   "cell_type": "code",
   "execution_count": null,
   "metadata": {},
   "outputs": [],
   "source": []
  }
 ],
 "metadata": {
  "kernelspec": {
   "display_name": "Python 3",
   "language": "python",
   "name": "python3"
  }
 },
 "nbformat": 4,
 "nbformat_minor": 2
}
